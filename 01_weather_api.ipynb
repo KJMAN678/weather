{
 "cells": [
  {
   "cell_type": "markdown",
   "id": "independent-liquid",
   "metadata": {},
   "source": [
    "## wxparams のライブラリのインストールが必要"
   ]
  },
  {
   "cell_type": "code",
   "execution_count": 70,
   "id": "simple-riverside",
   "metadata": {},
   "outputs": [],
   "source": [
    "API_KEY = \"xxx\" # xxxに自分のAPI Keyを入力。"
   ]
  },
  {
   "cell_type": "code",
   "execution_count": 75,
   "id": "potential-broadcast",
   "metadata": {},
   "outputs": [],
   "source": [
    "def city_weather(city_name, API_KEY):\n",
    "    import requests\n",
    "    import json\n",
    "    import pandas as pd\n",
    "    import numpy as np\n",
    "    import wxparams as wx\n",
    "    \n",
    "    api = \"http://api.openweathermap.org/data/2.5/weather?units=metric&q={city}&APPID={key}\"\n",
    "    url = api.format(city = city_name, key = API_KEY)\n",
    "    response = requests.get(url)\n",
    "    data = response.json()\n",
    "    \n",
    "    # 方角    \n",
    "    direction = wx.Deg_to_Dir8(pd.DataFrame([data[\"wind\"][\"deg\"]])).values.tolist()[0][0]\n",
    "\n",
    "    # Deg_to_Dir8()は戻り値が英語なので、日本語に変換\n",
    "    if direction == \"N\":\n",
    "        direction = \"北\"\n",
    "    elif direction == \"NE\":\n",
    "        direction = \"北東\"\n",
    "    elif direction == \"E\":\n",
    "        direction = \"東\"\n",
    "    elif direction == \"SE\":\n",
    "        direction = \"南東\"\n",
    "    elif direction == \"S\":\n",
    "        direction = \"南\"\n",
    "    elif direction == \"SW\":\n",
    "        direction = \"南西\"\n",
    "    elif direction == \"W\":\n",
    "        direction = \"西\"\n",
    "    else:\n",
    "        direction = \"北西\"\n",
    "    \n",
    "    df = pd.DataFrame(\n",
    "        [\n",
    "            data[\"name\"],\n",
    "            data[\"coord\"][\"lon\"], # 緯度\n",
    "            data[\"coord\"][\"lat\"], # 経度\n",
    "            data[\"main\"][\"temp\"], # 気温\n",
    "            data[\"main\"][\"temp_min\"], # 最低気温\n",
    "            data[\"main\"][\"temp_max\"], # 最高気温\n",
    "            data[\"main\"][\"pressure\"], # 気圧\n",
    "            data[\"main\"][\"humidity\"], # 湿度\n",
    "            data[\"wind\"][\"speed\"], # 風速\n",
    "            direction, # 風向1\n",
    "            data[\"wind\"][\"deg\"], # 風向2\n",
    "            \n",
    "        ],\n",
    "    ).T\n",
    "\n",
    "    df.columns=[\"都市名\", \"緯度\", \"経度\", \"気温\", \"最低気温\", \"最高気温\", \"気圧\", \"気圧\", \"風速\", \"風向1\", \"風向2\"]\n",
    "\n",
    "    return df"
   ]
  },
  {
   "cell_type": "code",
   "execution_count": 76,
   "id": "improving-costume",
   "metadata": {},
   "outputs": [
    {
     "data": {
      "text/html": [
       "<div>\n",
       "<style scoped>\n",
       "    .dataframe tbody tr th:only-of-type {\n",
       "        vertical-align: middle;\n",
       "    }\n",
       "\n",
       "    .dataframe tbody tr th {\n",
       "        vertical-align: top;\n",
       "    }\n",
       "\n",
       "    .dataframe thead th {\n",
       "        text-align: right;\n",
       "    }\n",
       "</style>\n",
       "<table border=\"1\" class=\"dataframe\">\n",
       "  <thead>\n",
       "    <tr style=\"text-align: right;\">\n",
       "      <th></th>\n",
       "      <th>都市名</th>\n",
       "      <th>緯度</th>\n",
       "      <th>経度</th>\n",
       "      <th>気温</th>\n",
       "      <th>最低気温</th>\n",
       "      <th>最高気温</th>\n",
       "      <th>気圧</th>\n",
       "      <th>気圧</th>\n",
       "      <th>風速</th>\n",
       "      <th>風向1</th>\n",
       "      <th>風向2</th>\n",
       "    </tr>\n",
       "  </thead>\n",
       "  <tbody>\n",
       "    <tr>\n",
       "      <th>0</th>\n",
       "      <td>Kobe</td>\n",
       "      <td>135.183</td>\n",
       "      <td>34.6913</td>\n",
       "      <td>19.27</td>\n",
       "      <td>17.85</td>\n",
       "      <td>22.16</td>\n",
       "      <td>1013</td>\n",
       "      <td>59</td>\n",
       "      <td>3.09</td>\n",
       "      <td>南西</td>\n",
       "      <td>240</td>\n",
       "    </tr>\n",
       "  </tbody>\n",
       "</table>\n",
       "</div>"
      ],
      "text/plain": [
       "    都市名       緯度       経度     気温   最低気温   最高気温    気圧  気圧    風速 風向1  風向2\n",
       "0  Kobe  135.183  34.6913  19.27  17.85  22.16  1013  59  3.09  南西  240"
      ]
     },
     "execution_count": 76,
     "metadata": {},
     "output_type": "execute_result"
    }
   ],
   "source": [
    "city_weather(\"Kobe\", API_KEY)"
   ]
  },
  {
   "cell_type": "code",
   "execution_count": null,
   "id": "under-region",
   "metadata": {},
   "outputs": [],
   "source": []
  }
 ],
 "metadata": {
  "kernelspec": {
   "display_name": "Python 3",
   "language": "python",
   "name": "python3"
  },
  "language_info": {
   "codemirror_mode": {
    "name": "ipython",
    "version": 3
   },
   "file_extension": ".py",
   "mimetype": "text/x-python",
   "name": "python",
   "nbconvert_exporter": "python",
   "pygments_lexer": "ipython3",
   "version": "3.8.8"
  }
 },
 "nbformat": 4,
 "nbformat_minor": 5
}
